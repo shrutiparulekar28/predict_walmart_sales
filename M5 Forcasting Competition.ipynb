{
 "cells": [
  {
   "cell_type": "markdown",
   "metadata": {},
   "source": [
    "In this project, \"M5 Forcasting-Accuracy\" I have used hierarchical sales data from Walmart, to forecast daily sales for the next 28 days. The data, covers stores in three US States (California, Texas, and Wisconsin) and includes item level, department, product categories, and store details. Forcasting methods help in guiding various bussiness strategies and effcient allocation of resources (i.e setting up inventories)\n"
   ]
  },
  {
   "cell_type": "code",
   "execution_count": 36,
   "metadata": {},
   "outputs": [],
   "source": [
    "##importing libraries\n",
    "import pandas as pd\n",
    "import numpy as np\n",
    "import matplotlib.pyplot as plt\n",
    "%matplotlib inline"
   ]
  },
  {
   "cell_type": "code",
   "execution_count": 6,
   "metadata": {},
   "outputs": [],
   "source": [
    "#importing data\n",
    "train_data= pd.read_csv(\"/Users/shrutiparulekar/Desktop/data science/kaggle/M5_Forcasting_Accuracy/sales_train_validation.csv\")\n",
    "calendar_data= pd.read_csv(\"/Users/shrutiparulekar/Desktop/data science/kaggle/M5_Forcasting_Accuracy/calendar.csv\")\n",
    "sell_prices_data= pd.read_csv(\"/Users/shrutiparulekar/Desktop/data science/kaggle/M5_Forcasting_Accuracy/sell_prices.csv\")\n"
   ]
  },
  {
   "cell_type": "code",
   "execution_count": 12,
   "metadata": {},
   "outputs": [
    {
     "name": "stdout",
     "output_type": "stream",
     "text": [
      "<class 'pandas.core.frame.DataFrame'>\n",
      "RangeIndex: 30490 entries, 0 to 30489\n",
      "Columns: 1919 entries, id to d_1913\n",
      "dtypes: int64(1913), object(6)\n",
      "memory usage: 446.4+ MB\n",
      "<class 'pandas.core.frame.DataFrame'>\n",
      "RangeIndex: 1969 entries, 0 to 1968\n",
      "Data columns (total 14 columns):\n",
      "date            1969 non-null object\n",
      "wm_yr_wk        1969 non-null int64\n",
      "weekday         1969 non-null object\n",
      "wday            1969 non-null int64\n",
      "month           1969 non-null int64\n",
      "year            1969 non-null int64\n",
      "d               1969 non-null object\n",
      "event_name_1    162 non-null object\n",
      "event_type_1    162 non-null object\n",
      "event_name_2    5 non-null object\n",
      "event_type_2    5 non-null object\n",
      "snap_CA         1969 non-null int64\n",
      "snap_TX         1969 non-null int64\n",
      "snap_WI         1969 non-null int64\n",
      "dtypes: int64(7), object(7)\n",
      "memory usage: 215.4+ KB\n",
      "<class 'pandas.core.frame.DataFrame'>\n",
      "RangeIndex: 6841121 entries, 0 to 6841120\n",
      "Data columns (total 4 columns):\n",
      "store_id      object\n",
      "item_id       object\n",
      "wm_yr_wk      int64\n",
      "sell_price    float64\n",
      "dtypes: float64(1), int64(1), object(2)\n",
      "memory usage: 208.8+ MB\n"
     ]
    }
   ],
   "source": [
    "##perform exploratory data analysis\n",
    "#understanding the data structure\n",
    "train_data.info()\n",
    "calendar_data.info()\n",
    "sell_prices_data.info()"
   ]
  },
  {
   "cell_type": "code",
   "execution_count": 33,
   "metadata": {},
   "outputs": [
    {
     "name": "stdout",
     "output_type": "stream",
     "text": [
      "FOODS_3        8230\n",
      "HOUSEHOLD_1    5320\n",
      "HOUSEHOLD_2    5150\n",
      "HOBBIES_1      4160\n",
      "FOODS_2        3980\n",
      "FOODS_1        2160\n",
      "HOBBIES_2      1490\n",
      "Name: dept_id, dtype: int64\n"
     ]
    },
    {
     "data": {
      "text/plain": [
       "Index(['id', 'item_id', 'dept_id', 'cat_id', 'store_id', 'state_id', 'd_1',\n",
       "       'd_2', 'd_3', 'd_4',\n",
       "       ...\n",
       "       'd_1904', 'd_1905', 'd_1906', 'd_1907', 'd_1908', 'd_1909', 'd_1910',\n",
       "       'd_1911', 'd_1912', 'd_1913'],\n",
       "      dtype='object', length=1919)"
      ]
     },
     "execution_count": 33,
     "metadata": {},
     "output_type": "execute_result"
    }
   ],
   "source": [
    "calendar_data['event_type_1'].value_counts()\n",
    "print(train_data['dept_id'].value_counts())\n",
    "train_data.columns\n",
    "#train_data[['id', 'item_id', 'dept_id', 'cat_id', 'store_id', 'state_id', 'd_1','d_2', 'd_3']].head()\n",
    "#pd.crosstab(calendar_data['event_type_1'], calendar_data['event_type_2'])"
   ]
  },
  {
   "cell_type": "code",
   "execution_count": 93,
   "metadata": {},
   "outputs": [
    {
     "data": {
      "text/plain": [
       "Text(0, 0.5, 'Score')"
      ]
     },
     "execution_count": 93,
     "metadata": {},
     "output_type": "execute_result"
    },
    {
     "data": {
      "image/png": "[encoded data removed]",
      "text/plain": [
       "<Figure size 432x288 with 1 Axes>"
      ]
     },
     "metadata": {},
     "output_type": "display_data"
    }
   ],
   "source": [
    "##plotting data to understand differences \n",
    "##randomly plotting some items to check trend over time\n",
    "##add in the date varaible to the train data\n",
    "train_data_tmp=pd.merge(train_data,calendar_data[['date','d']], left_on=  ['item_id'], \n",
    "                     right_on= ['d'],how = 'left') \n",
    "\n",
    "plot_df_tmp=train_data_tmp.sample(n=100, random_state=1)\n",
    "plot_df_tmp.columns\n",
    "plot_df=plot_df_tmp.loc[:, ~plot_df_tmp.columns.isin(['id', 'dept_id', 'cat_id', 'store_id','state_id'])]\n",
    "plt.style.use('seaborn-darkgrid')\n",
    "palette = plt.get_cmap('Set1')\n",
    " \n",
    "#multiple line plot\n",
    "num=0\n",
    "for column in plot_df.drop('item_id', axis=1):\n",
    "    num+=1\n",
    "    plt.plot(plot_df['item_id'], plot_df['date'], marker='', color=palette(num), linewidth=1, alpha=0.9, label=column)\n",
    "\n",
    "## Add legend\n",
    "#plt.legend(loc=2, ncol=1)\n",
    " \n",
    "# # # Add titles\n",
    "plt.title(\"A plot\", fontsize=12, fontweight=0)\n",
    "plt.xlabel(\"Time\")\n",
    "plt.ylabel(\"Score\")\n",
    "\n"
   ]
  },
  {
   "cell_type": "code",
   "execution_count": null,
   "metadata": {},
   "outputs": [],
   "source": []
  },
  {
   "cell_type": "code",
   "execution_count": null,
   "metadata": {},
   "outputs": [],
   "source": []
  },
  {
   "cell_type": "code",
   "execution_count": null,
   "metadata": {},
   "outputs": [],
   "source": []
  },
  {
   "cell_type": "code",
   "execution_count": null,
   "metadata": {},
   "outputs": [],
   "source": []
  },
  {
   "cell_type": "code",
   "execution_count": null,
   "metadata": {},
   "outputs": [],
   "source": []
  },
  {
   "cell_type": "code",
   "execution_count": null,
   "metadata": {},
   "outputs": [],
   "source": []
  },
  {
   "cell_type": "code",
   "execution_count": null,
   "metadata": {},
   "outputs": [],
   "source": []
  },
  {
   "cell_type": "code",
   "execution_count": null,
   "metadata": {},
   "outputs": [],
   "source": []
  },
  {
   "cell_type": "code",
   "execution_count": null,
   "metadata": {},
   "outputs": [],
   "source": []
  },
  {
   "cell_type": "code",
   "execution_count": null,
   "metadata": {},
   "outputs": [],
   "source": []
  },
  {
   "cell_type": "code",
   "execution_count": null,
   "metadata": {},
   "outputs": [],
   "source": []
  },
  {
   "cell_type": "code",
   "execution_count": null,
   "metadata": {},
   "outputs": [],
   "source": []
  },
  {
   "cell_type": "code",
   "execution_count": null,
   "metadata": {},
   "outputs": [],
   "source": []
  },
  {
   "cell_type": "code",
   "execution_count": null,
   "metadata": {},
   "outputs": [],
   "source": []
  },
  {
   "cell_type": "code",
   "execution_count": null,
   "metadata": {},
   "outputs": [],
   "source": []
  },
  {
   "cell_type": "code",
   "execution_count": null,
   "metadata": {},
   "outputs": [],
   "source": []
  },
  {
   "cell_type": "code",
   "execution_count": null,
   "metadata": {},
   "outputs": [],
   "source": []
  },
  {
   "cell_type": "code",
   "execution_count": null,
   "metadata": {},
   "outputs": [],
   "source": []
  },
  {
   "cell_type": "code",
   "execution_count": null,
   "metadata": {},
   "outputs": [],
   "source": []
  }
 ],
 "metadata": {
  "kernelspec": {
   "display_name": "Python 3",
   "language": "python",
   "name": "python3"
  },
  "language_info": {
   "codemirror_mode": {
    "name": "ipython",
    "version": 3
   },
   "file_extension": ".py",
   "mimetype": "text/x-python",
   "name": "python",
   "nbconvert_exporter": "python",
   "pygments_lexer": "ipython3",
   "version": "3.7.1"
  }
 },
 "nbformat": 4,
 "nbformat_minor": 2
}
